{
  "nbformat": 4,
  "nbformat_minor": 0,
  "metadata": {
    "colab": {
      "name": "triangle_reconstruction.ipynb",
      "version": "0.3.2",
      "provenance": []
    },
    "kernelspec": {
      "name": "python3",
      "display_name": "Python 3"
    },
    "accelerator": "GPU"
  },
  "cells": [
    {
      "metadata": {
        "id": "pYmlm482B1MV",
        "colab_type": "text"
      },
      "cell_type": "markdown",
      "source": [
        "## Summary"
      ]
    },
    {
      "metadata": {
        "id": "1Bbfzqz16wAd",
        "colab_type": "text"
      },
      "cell_type": "markdown",
      "source": [
        "The solution is based on a genetic algorithm where on each generation we select the individuals (group of triangles) that better reconstruct the target image. The hyper parameters of the solution are the number of triangles, the generations, the population size and the mutation rate. Also, we define the base color (background color) to help our solution reach a better reconstruction."
      ]
    },
    {
      "metadata": {
        "id": "urJD8LieAvOW",
        "colab_type": "text"
      },
      "cell_type": "markdown",
      "source": [
        "The code is implemented using 3 main classes: Gene, Individual, Population.  \n",
        "\n",
        "1) The __Gene__ class defines a triangle.    \n",
        "2) The __Individual__ class contains an group of genes and is able to build an image and calculate the fitness. It is also capable of doing crossover and mutation.  \n",
        "3) The __Population__ class contains a group of individuals and is capable of performing selection of the fittest individuals and generation evolution.  "
      ]
    },
    {
      "metadata": {
        "id": "FBhU3TYxA5Yl",
        "colab_type": "text"
      },
      "cell_type": "markdown",
      "source": [
        "Using a typical colored small JPEG image (250*250 pixels) and with default hyper parameters (100 genes, 30 individuals, 4000 generations) the code runs in less than 5 minutes."
      ]
    },
    {
      "metadata": {
        "id": "k4VvOqHjVYQS",
        "colab_type": "text"
      },
      "cell_type": "markdown",
      "source": [
        "## The genetic algorithm"
      ]
    },
    {
      "metadata": {
        "id": "Yk2kW1_wVavT",
        "colab_type": "text"
      },
      "cell_type": "markdown",
      "source": [
        "The genetic algorithm chosen is of the typical form:\n",
        "\n",
        "1) Initial random population    \n",
        "2) Fitness evaluation  \n",
        "3) Selection of best individuals inside population  \n",
        "4) Crossover between selected individuals  \n",
        "5) Random gene mutation  \n",
        "6) Back to step 2 until convergence or until end of generations  "
      ]
    },
    {
      "metadata": {
        "id": "ybFqiXXiWFiU",
        "colab_type": "text"
      },
      "cell_type": "markdown",
      "source": [
        "Our choices for the imporant steps:\n",
        "\n",
        "- __Fitness:__ Chose the pixelwise MSE   \n",
        "- __Selection:__ Each generation selects the best 4 individuals based on fitness (pool)    \n",
        "- __Crossover:__ For each chile we randomly choose 2 parents from the pool and do crossover with 3 random slice indexes  \n",
        "- __Mutation:__ A mutation is equal to a random gene  "
      ]
    },
    {
      "metadata": {
        "id": "m85JaVm9W7Z5",
        "colab_type": "text"
      },
      "cell_type": "markdown",
      "source": [
        "## Architecture"
      ]
    },
    {
      "metadata": {
        "id": "DFAmbdYMW_Xx",
        "colab_type": "text"
      },
      "cell_type": "markdown",
      "source": [
        "As explained before we base our architecture on 3 classes: Gene, Individual, Population. The Population class creates and handles sets of individuals and the Individual class creates and handles sets of genes. By making it this way our main function becomes extremely simple and concise, consisting only from a initialize population step and from iterations over the \".evolve()\" method of the same Population instance. Using one population object only we have access to every individual and to every gene on any given time, with their respective methods.  \n",
        "\n",
        "Further information about the classes and the methods can be found as comments at the beggining of each class."
      ]
    },
    {
      "metadata": {
        "id": "6Q9MB3b9Yqf8",
        "colab_type": "text"
      },
      "cell_type": "markdown",
      "source": [
        "## Future improvements"
      ]
    },
    {
      "metadata": {
        "id": "ezdEChpeYs2C",
        "colab_type": "text"
      },
      "cell_type": "markdown",
      "source": [
        "Future improvements are needed to increase the accuracy of the reconstruction, and other methods besides genetic algorithms should be considered. In general, a different fitness function that better represents the morphological and texture differences between the target image and the reconstructed image would be prudent. The pixel-wise MSE is certainly limited in many many senses.  \n",
        "\n",
        "Also, another big consideration should be the number of genes (triangles) used on every generation. It is my opinion that using all 100 triangles from the very start may be problematic and may \"hide\" the individuals with very good basic shapes/colors that serve as structural background for the image, specially when having only 30 individuals compared to 100 genes. Following the same angle, we could also change and reduce the average size of the triangles as we advance on the generations, moving from gross tuning to fine tuning.  "
      ]
    },
    {
      "metadata": {
        "id": "Si2XPuoqqcCa",
        "colab_type": "text"
      },
      "cell_type": "markdown",
      "source": [
        "## Import stuff"
      ]
    },
    {
      "metadata": {
        "id": "NJODQG3GqWhK",
        "colab_type": "code",
        "colab": {}
      },
      "cell_type": "code",
      "source": [
        "import numpy as np\n",
        "import random\n",
        "from numpy.random import choice\n",
        "from PIL import Image, ImageDraw\n",
        "from skimage import img_as_float\n",
        "from skimage.measure import compare_mse as mse\n",
        "from IPython.display import display"
      ],
      "execution_count": 0,
      "outputs": []
    },
    {
      "metadata": {
        "id": "HHNFDenVqfkD",
        "colab_type": "text"
      },
      "cell_type": "markdown",
      "source": [
        "## Define the class \"Gene\""
      ]
    },
    {
      "metadata": {
        "id": "zFBpNWlSoyDy",
        "colab_type": "code",
        "colab": {}
      },
      "cell_type": "code",
      "source": [
        "# The class gene represents a triangle\n",
        "\n",
        "# It has 7 attributes:\n",
        "# - coord_1: One of the triangle vertices\n",
        "# - coord_2: One of the triangle vertices\n",
        "# - coord_3: One of the triangle vertices\n",
        "# - colorR: The Red color component\n",
        "# - colorG: The Green color component\n",
        "# - colorB: The Blue color component\n",
        "# - transparency: The transparency value of the colors channel\n",
        "\n",
        "class gene():\n",
        "    def __init__(self):\n",
        "        self.coord_1 = random.randint(0, image_width), random.randint(0, image_height)\n",
        "        self.coord_2 = random.randint(0, image_width), random.randint(0, image_height)\n",
        "        self.coord_3 = random.randint(0, image_width), random.randint(0, image_height)\n",
        "        self.colorR = random.randint(0, 255)\n",
        "        self.colorG = random.randint(0, 255)\n",
        "        self.colorB = random.randint(0, 255)\n",
        "        self.transparency = 30"
      ],
      "execution_count": 0,
      "outputs": []
    },
    {
      "metadata": {
        "id": "6YXsMOEnqiaU",
        "colab_type": "text"
      },
      "cell_type": "markdown",
      "source": [
        "## Define the class \"Individual\""
      ]
    },
    {
      "metadata": {
        "id": "fm2CntQ3o7qP",
        "colab_type": "code",
        "colab": {}
      },
      "cell_type": "code",
      "source": [
        "# The class individual represents a collection of triangles\n",
        "# It can be used to initialize a new individual or to generate a new individual\n",
        "# given 2 parent individuals\n",
        "\n",
        "# It has 3 attributes:\n",
        "# - genes: A collection of genes (triangles)\n",
        "# - image: The resulting image when drawing the triangles\n",
        "# - fitness: The fitness value of the resulting image compared to target\n",
        "\n",
        "# It has 4 methods:\n",
        "# - cross: Perform crossover for when initializing from 2 parents\n",
        "# - mutate: Perform random mutation of some genes\n",
        "# - build_image: Builds the image using the triangles\n",
        "# - calculate_fitness: Calculates the fitness against target image\n",
        "\n",
        "class individual():\n",
        "  \n",
        "    def __init__(self, parent1=None, parent2=None):\n",
        "        \n",
        "        # We build a new individual either by random genes or by crossover\n",
        "        # and mutation from 2 parents. Then we build the image and calculate \n",
        "        # the fitness\n",
        "        \n",
        "        self.genes = []\n",
        "        if (parent1==None and parent2==None):      \n",
        "          for i in range(NUM_TRIANGLES): \n",
        "            self.genes.append(gene())\n",
        "        else:                                 \n",
        "            self.cross(parent1, parent2)          \n",
        "            self.mutate()                        \n",
        "        self.image = self.build_image()          \n",
        "        self.fitness = self.calculate_fitness()   \n",
        "\n",
        "        \n",
        "    def cross(self, parent1, parent2):\n",
        "      \n",
        "        # Cross over is performed by randomly selecting 3 slicing points and\n",
        "        # then merging the slices from the 2 parents. Who goes first is decided\n",
        "        # randomly with 50% chance\n",
        "        \n",
        "        if np.random.uniform(0, 1) > 0.5:\n",
        "          parent1, parent2 = parent2, parent1\n",
        "        \n",
        "        cut_index1 = random.randint(0, NUM_TRIANGLES)\n",
        "        cut_index2 = random.randint(0, NUM_TRIANGLES)\n",
        "        cut_index3 = random.randint(0, NUM_TRIANGLES)\n",
        "        \n",
        "        self.genes[:cut_index1] = parent1.genes[:cut_index1]\n",
        "        self.genes[cut_index1:cut_index2] = parent2.genes[cut_index1:cut_index2]\n",
        "        self.genes[cut_index2:cut_index3] = parent1.genes[cut_index2:cut_index3]\n",
        "        self.genes[cut_index3:] = parent2.genes[cut_index3:]\n",
        "        \n",
        "\n",
        "    def mutate(self):\n",
        "      \n",
        "        # A gene can mutate (is changed by a new and random gene) with given probability\n",
        "        \n",
        "        mutate_indices = np.where(np.random.uniform(0, 1, NUM_TRIANGLES) < MUTATION_RATE)\n",
        "        for index in mutate_indices[0]:\n",
        "          self.genes[index] = gene()\n",
        "\n",
        "    def build_image(self):\n",
        "      \n",
        "        # Image is constructed by drawing the triangles. Background color is \n",
        "        # defined to help the algorithm converge. Otherwise the algorithm may\n",
        "        # focus on finding the background color and not the details of the image\n",
        "        \n",
        "        image = Image.new('RGB', (image_width, image_height), BASE_COLOR)\n",
        "        draw = ImageDraw.Draw(image, 'RGBA')\n",
        "        for gene in self.genes:\n",
        "          draw.polygon([gene.coord_1, gene.coord_2, gene.coord_3], \n",
        "                       fill=(gene.colorR, gene.colorG, gene.colorB, gene.transparency))\n",
        "        return image\n",
        "\n",
        "    def calculate_fitness(self):\n",
        "      \n",
        "        # Calculate fitness by mean pixel squared error. The minus is used so \n",
        "        # that images with lower MSE have larger fitness values\n",
        "        fitness = -mse(img_as_float(self.image), target_image)\n",
        "        return fitness   \n"
      ],
      "execution_count": 0,
      "outputs": []
    },
    {
      "metadata": {
        "id": "e27LWAsmqpjL",
        "colab_type": "text"
      },
      "cell_type": "markdown",
      "source": [
        "## Define the class \"Population\""
      ]
    },
    {
      "metadata": {
        "id": "CFzP5sGah1xx",
        "colab_type": "code",
        "colab": {}
      },
      "cell_type": "code",
      "source": [
        "# The class population is mainly a set of individuals\n",
        "# It is initialized with new individuals that have new genes\n",
        "\n",
        "# It has 2 methods:\n",
        "# - selection_pool: Checks the fitness of all the contained individuals and\n",
        "#                   selects the 4 individuals with the highest fitness\n",
        "# - evolve: Given the 4 pre-selected individuals it creates a new generation of\n",
        "#           individuals. Each new individual is created by randomly choosing 2 \n",
        "#           past individuals from the pool that are crossed and allow to mutate.\n",
        "\n",
        "class population():\n",
        "  \n",
        "  def __init__(self):\n",
        "    \n",
        "    # Create fresh and new individuals\n",
        "    \n",
        "    self.pop = []\n",
        "    for i in range(POPULATION_SIZE):\n",
        "      self.pop.append(individual())\n",
        "      \n",
        "  def selection_pool(self):\n",
        "    \n",
        "    # Choose the best 4 individuals based on fitness\n",
        "    \n",
        "    sorted_individuals = sorted(self.pop, key=lambda x: x.fitness, reverse=True)\n",
        "    pool = sorted_individuals[:4]\n",
        "    return pool\n",
        "    \n",
        "  def evolve(self):\n",
        "    \n",
        "    # Random select 2 parents, cross them and mutate them to create new individuals\n",
        "    \n",
        "    pool = self.selection_pool()\n",
        "    self.pop = []\n",
        "    for i in range(POPULATION_SIZE):\n",
        "      chosen = np.random.choice(pool, 2, replace=False)\n",
        "      self.pop.append(individual(chosen[0], chosen[1]))  \n",
        "    \n"
      ],
      "execution_count": 0,
      "outputs": []
    },
    {
      "metadata": {
        "id": "dzPjT99yqrtj",
        "colab_type": "text"
      },
      "cell_type": "markdown",
      "source": [
        "## Load target image"
      ]
    },
    {
      "metadata": {
        "id": "QHvYVexkpxGL",
        "colab_type": "code",
        "colab": {
          "resources": {
            "http://localhost:8080/nbextensions/google.colab/files.js": {
              "data": "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",
              "ok": true,
              "headers": [
                [
                  "content-type",
                  "application/javascript"
                ]
              ],
              "status": 200,
              "status_text": ""
            }
          },
          "base_uri": "https://localhost:8080/",
          "height": 73
        },
        "outputId": "68daf553-b6ee-4229-c9a5-367a97e1e656"
      },
      "cell_type": "code",
      "source": [
        "from google.colab import files\n",
        "from io import BytesIO\n",
        "\n",
        "# Image must be called \"image.jpg\"\n",
        "uploaded = files.upload()\n",
        "im = Image.open(BytesIO(uploaded['image.jpg']))\n",
        "target_image = img_as_float(np.asarray(im))"
      ],
      "execution_count": 170,
      "outputs": [
        {
          "output_type": "display_data",
          "data": {
            "text/html": [
              "\n",
              "     <input type=\"file\" id=\"files-ffb2fde4-20cd-4aa6-bb37-1cac7b263d9a\" name=\"files[]\" multiple disabled />\n",
              "     <output id=\"result-ffb2fde4-20cd-4aa6-bb37-1cac7b263d9a\">\n",
              "      Upload widget is only available when the cell has been executed in the\n",
              "      current browser session. Please rerun this cell to enable.\n",
              "      </output>\n",
              "      <script src=\"/nbextensions/google.colab/files.js\"></script> "
            ],
            "text/plain": [
              "<IPython.core.display.HTML object>"
            ]
          },
          "metadata": {
            "tags": []
          }
        },
        {
          "output_type": "stream",
          "text": [
            "Saving image.jpg to image (3).jpg\n"
          ],
          "name": "stdout"
        }
      ]
    },
    {
      "metadata": {
        "id": "oe_dYSrfq5fM",
        "colab_type": "text"
      },
      "cell_type": "markdown",
      "source": [
        "## Run"
      ]
    },
    {
      "metadata": {
        "id": "17BvD6_AZ6lc",
        "colab_type": "code",
        "colab": {
          "base_uri": "https://localhost:8080/",
          "height": 513
        },
        "outputId": "0b881b5e-470b-4a80-db73-0a6637752a12"
      },
      "cell_type": "code",
      "source": [
        "POPULATION_SIZE = 30\n",
        "NUM_TRIANGLES = 100\n",
        "MUTATION_RATE = 0.02\n",
        "BASE_COLOR = 'white'\n",
        "GENERATIONS = 4000\n",
        "\n",
        "if __name__ == \"__main__\":\n",
        "  \n",
        "  # Get the target image size\n",
        "  image_height = target_image.shape[0]\n",
        "  image_width = target_image.shape[1]\n",
        "  \n",
        "  # Initialize\n",
        "  popu = population()\n",
        "  \n",
        "  # Run for the number of generations\n",
        "  for i in range(GENERATIONS):\n",
        "    if i%500==0:\n",
        "      print(\"Running generation number: \" + str(i))\n",
        "    popu.evolve()\n",
        "  \n",
        "  # Display target image and best reconstruction\n",
        "  sorted_ind = sorted(popu.pop, key=lambda x: x.fitness, reverse=True)\n",
        "  display(im)\n",
        "  display(sorted_ind[0].image)"
      ],
      "execution_count": 174,
      "outputs": [
        {
          "output_type": "stream",
          "text": [
            "Running generation number: 0\n",
            "Running generation number: 500\n",
            "Running generation number: 1000\n",
            "Running generation number: 1500\n",
            "Running generation number: 2000\n",
            "Running generation number: 2500\n",
            "Running generation number: 3000\n",
            "Running generation number: 3500\n"
          ],
          "name": "stdout"
        },
        {
          "output_type": "display_data",
          "data": {
            "image/png": "[encoded data removed]",
            "text/plain": [
              "<PIL.JpegImagePlugin.JpegImageFile image mode=RGB size=182x181 at 0x7FE299DC3B70>"
            ]
          },
          "metadata": {
            "tags": []
          }
        },
        {
          "output_type": "display_data",
          "data": {
            "image/png": "[encoded data removed]",
            "text/plain": [
              "<PIL.Image.Image image mode=RGB size=182x181 at 0x7FE299DC3400>"
            ]
          },
          "metadata": {
            "tags": []
          }
        }
      ]
    }
  ]
}